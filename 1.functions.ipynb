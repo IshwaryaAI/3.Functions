{
 "cells": [
  {
   "cell_type": "code",
   "execution_count": 1,
   "metadata": {},
   "outputs": [],
   "source": [
    "list=[10,20,35,45]"
   ]
  },
  {
   "cell_type": "code",
   "execution_count": 4,
   "metadata": {},
   "outputs": [
    {
     "name": "stdout",
     "output_type": "stream",
     "text": [
      "10 child\n",
      "20 adult\n",
      "35 adult\n",
      "45 adult\n"
     ]
    }
   ],
   "source": [
    "for age in list:\n",
    "    if(age<18):\n",
    "        print(age,\"child\")\n",
    "    elif(age>19):\n",
    "        print(age,\"adult\")\n",
    "    elif(age<36):\n",
    "        print(age,\"citizen\")\n",
    "    elif(age<50):\n",
    "        print(age,\"golden citizen\")\n",
    "    else:\n",
    "        print(\"none\")"
   ]
  },
  {
   "cell_type": "code",
   "execution_count": 5,
   "metadata": {},
   "outputs": [
    {
     "name": "stdout",
     "output_type": "stream",
     "text": [
      "10 child\n",
      "20 adult\n",
      "35 adult\n",
      "45 adult\n"
     ]
    }
   ],
   "source": [
    "def Agecat():\n",
    "    for age in list:\n",
    "        if(age<18):\n",
    "            print(age,\"child\")\n",
    "        elif(age>19):\n",
    "            print(age,\"adult\")\n",
    "        elif(age<36):\n",
    "            print(age,\"citizen\")\n",
    "        elif(age<50):\n",
    "            print(age,\"golden citizen\")\n",
    "        else:\n",
    "            print(\"none\")\n",
    "Agecat()\n",
    "    "
   ]
  },
  {
   "cell_type": "code",
   "execution_count": 8,
   "metadata": {},
   "outputs": [
    {
     "name": "stdout",
     "output_type": "stream",
     "text": [
      "enter the age:30\n"
     ]
    }
   ],
   "source": [
    "age1=int(input(\"enter the age:\"))"
   ]
  },
  {
   "cell_type": "code",
   "execution_count": 9,
   "metadata": {},
   "outputs": [
    {
     "name": "stdout",
     "output_type": "stream",
     "text": [
      "30 adult\n"
     ]
    },
    {
     "data": {
      "text/plain": [
       "'adults'"
      ]
     },
     "execution_count": 9,
     "metadata": {},
     "output_type": "execute_result"
    }
   ],
   "source": [
    "def Agecat():\n",
    "        if(age1<18):\n",
    "            print(age1,\"child\")\n",
    "            cate=\"children\"\n",
    "        elif(age1>19):\n",
    "            print(age1,\"adult\")\n",
    "            cate=\"adults\"\n",
    "        elif(age1<36):\n",
    "            print(age1,\"citizen\")\n",
    "            cate=\"citizens\"\n",
    "        elif(age1<50):\n",
    "            print(age1,\"golden citizen\")\n",
    "            cate=\"gold\"\n",
    "        else:\n",
    "            print(\"none\")\n",
    "            cate=\"none datatype\"\n",
    "        return cate\n",
    "Agecat()"
   ]
  },
  {
   "cell_type": "code",
   "execution_count": 10,
   "metadata": {},
   "outputs": [
    {
     "name": "stdout",
     "output_type": "stream",
     "text": [
      "30 adult\n"
     ]
    }
   ],
   "source": [
    "system=Agecat()"
   ]
  },
  {
   "cell_type": "code",
   "execution_count": 11,
   "metadata": {},
   "outputs": [
    {
     "data": {
      "text/plain": [
       "'adults'"
      ]
     },
     "execution_count": 11,
     "metadata": {},
     "output_type": "execute_result"
    }
   ],
   "source": [
    "system"
   ]
  },
  {
   "cell_type": "code",
   "execution_count": null,
   "metadata": {},
   "outputs": [],
   "source": []
  }
 ],
 "metadata": {
  "kernelspec": {
   "display_name": "Python 3",
   "language": "python",
   "name": "python3"
  },
  "language_info": {
   "codemirror_mode": {
    "name": "ipython",
    "version": 3
   },
   "file_extension": ".py",
   "mimetype": "text/x-python",
   "name": "python",
   "nbconvert_exporter": "python",
   "pygments_lexer": "ipython3",
   "version": "3.7.4"
  }
 },
 "nbformat": 4,
 "nbformat_minor": 2
}
